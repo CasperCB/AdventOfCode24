{
 "cells": [
  {
   "cell_type": "code",
   "execution_count": 1,
   "id": "a5b4d3b3-3287-48a5-b09f-d651c871dfee",
   "metadata": {},
   "outputs": [],
   "source": [
    "import pandas as pd\n",
    "import numpy as np"
   ]
  },
  {
   "cell_type": "markdown",
   "id": "f156efb0-dda0-4c79-95f7-161053a172b4",
   "metadata": {},
   "source": [
    "# Part 1"
   ]
  },
  {
   "cell_type": "code",
   "execution_count": 9,
   "id": "9d026678-8651-4622-b73b-2aaa01b794ea",
   "metadata": {},
   "outputs": [],
   "source": [
    "# import lists\n",
    "q1_lists = pd.read_csv('Day1_Q1.csv', header=None)\n",
    "\n",
    "list1 = q1_lists[0]\n",
    "list2 = q1_lists[1]"
   ]
  },
  {
   "cell_type": "code",
   "execution_count": 15,
   "id": "883f9721-df94-4580-94d2-8c4cbaac1ef0",
   "metadata": {},
   "outputs": [],
   "source": [
    "# sort lists\n",
    "list1_sort = sorted(list1)\n",
    "list2_sort = sorted(list2)"
   ]
  },
  {
   "cell_type": "code",
   "execution_count": 17,
   "id": "47bd580a-ec66-4156-b95a-fc05ced76468",
   "metadata": {},
   "outputs": [],
   "source": [
    "# find total distance between elements in list\n",
    "diff = abs(np.array(list1_sort) - np.array(list2_sort))\n",
    "print(sum(diff))"
   ]
  },
  {
   "cell_type": "markdown",
   "id": "7317a5ab-48c7-42a5-9f76-7fd95d6c0840",
   "metadata": {},
   "source": [
    "# Part 2"
   ]
  },
  {
   "cell_type": "code",
   "execution_count": 25,
   "id": "4fa3eca8-2c54-4769-8377-e927f84f9a54",
   "metadata": {},
   "outputs": [],
   "source": [
    "# count number of appearances of list1 in list2\n",
    "counts = []\n",
    "for num1 in list1: \n",
    "    counter = 0\n",
    "    for num2 in list2:\n",
    "        if num1 == num2:\n",
    "            counter += 1\n",
    "    counts.append(counter)"
   ]
  },
  {
   "cell_type": "code",
   "execution_count": 30,
   "id": "96c213b6-e0c3-4ac1-a952-5cb6c4588aae",
   "metadata": {},
   "outputs": [
    {
     "name": "stdout",
     "output_type": "stream",
     "text": [
      "27267728\n"
     ]
    }
   ],
   "source": [
    "# multiply list1 by counter\n",
    "sim_score = list1 * np.array(counts)\n",
    "\n",
    "print(sum(sim_score))"
   ]
  }
 ],
 "metadata": {
  "kernelspec": {
   "display_name": "Python 3 (ipykernel)",
   "language": "python",
   "name": "python3"
  },
  "language_info": {
   "codemirror_mode": {
    "name": "ipython",
    "version": 3
   },
   "file_extension": ".py",
   "mimetype": "text/x-python",
   "name": "python",
   "nbconvert_exporter": "python",
   "pygments_lexer": "ipython3",
   "version": "3.10.13"
  }
 },
 "nbformat": 4,
 "nbformat_minor": 5
}
