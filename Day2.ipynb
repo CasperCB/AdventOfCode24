{
 "cells": [
  {
   "cell_type": "code",
   "execution_count": 4,
   "id": "7b17dec8-28b2-4eec-8dca-14294ba87670",
   "metadata": {},
   "outputs": [],
   "source": [
    "import csv"
   ]
  },
  {
   "cell_type": "markdown",
   "id": "bc7da775-9f0e-4973-8493-843a9845d93a",
   "metadata": {},
   "source": [
    "# Part 1"
   ]
  },
  {
   "cell_type": "code",
   "execution_count": 36,
   "id": "c2b0627a-11e1-4d83-bfaa-8e894a65e9d5",
   "metadata": {},
   "outputs": [],
   "source": [
    "counter = 0\n",
    "\n",
    "with open('Day2_Q1.csv', 'r') as f:\n",
    "    reader = csv.reader(f, delimiter='\\t')\n",
    "\n",
    "    # for each record\n",
    "    for i, line in enumerate(reader):\n",
    "        # clean up record\n",
    "        record_str = line[0]\n",
    "        record_split = record_str.split(',')\n",
    "        record_clean = [int(x) for x in record_split if x]\n",
    "\n",
    "\n",
    "        # get differences of levels\n",
    "        diffs = []\n",
    "        j = 0\n",
    "        while j < (len(record_clean)-1):\n",
    "            diffs.append(record_clean[j+1] - record_clean[j])\n",
    "            j+=1\n",
    "\n",
    "        # check magnitude of levels\n",
    "        if 0 in diffs:\n",
    "            continue\n",
    "            \n",
    "        mag_error = False    \n",
    "        for num in diffs:\n",
    "            if (abs(num) < 1 or abs(num) > 3):\n",
    "                mag_error = True     \n",
    "        if mag_error:\n",
    "            continue\n",
    "\n",
    "        # check if levels always increasing or decreasing\n",
    "        sign_error = False\n",
    "        if diffs[0] > 0:\n",
    "            for num in diffs:\n",
    "                if num < 0:\n",
    "                    sign_error = True\n",
    "        else:\n",
    "            for num in diffs:\n",
    "                if num > 0:\n",
    "                    sign_error = True\n",
    "\n",
    "        if sign_error:\n",
    "            continue\n",
    "\n",
    "        # if a record made it this far, it's safe\n",
    "        counter += 1"
   ]
  },
  {
   "cell_type": "code",
   "execution_count": 37,
   "id": "df2dfa0b-7232-425b-8fc5-c10ca7f5bd32",
   "metadata": {
    "scrolled": true
   },
   "outputs": [
    {
     "name": "stdout",
     "output_type": "stream",
     "text": [
      "369\n"
     ]
    }
   ],
   "source": [
    "print(counter)"
   ]
  },
  {
   "cell_type": "markdown",
   "id": "1dd54270-8a58-467e-bc58-15a53539e478",
   "metadata": {},
   "source": [
    "# Part 2"
   ]
  },
  {
   "cell_type": "code",
   "execution_count": 38,
   "id": "a6de1b3a-ff09-470c-a2e2-7b0d9566d161",
   "metadata": {},
   "outputs": [],
   "source": [
    "# get data in a list of lists\n",
    "records = []\n",
    "with open('Day2_Q1.csv', 'r') as f:\n",
    "    reader = csv.reader(f, delimiter='\\t')\n",
    "\n",
    "    # for each record\n",
    "    for i, line in enumerate(reader):\n",
    "        # clean up record\n",
    "        record_str = line[0]\n",
    "        record_split = record_str.split(',')\n",
    "        record_clean = [int(x) for x in record_split if x]\n",
    "        records.append(record_clean)"
   ]
  },
  {
   "cell_type": "code",
   "execution_count": 58,
   "id": "87a4643a-6472-43c7-925d-0229ccfbb6c9",
   "metadata": {},
   "outputs": [],
   "source": [
    "# define analysis done in Day 1 as a function\n",
    "\n",
    "def checkLevels(record):\n",
    "    # get differences of levels\n",
    "    diffs = []\n",
    "    j = 0\n",
    "    while j < (len(record)-1):\n",
    "        diffs.append(record[j+1] - record[j])\n",
    "        j+=1\n",
    "\n",
    "    # check magnitude of levels\n",
    "    if 0 in diffs:\n",
    "        return False\n",
    "            \n",
    "    for num in diffs:\n",
    "         if (abs(num) < 1 or abs(num) > 3):\n",
    "             return False     \n",
    "\n",
    "    # check if levels always increasing or decreasing\n",
    "    if diffs[0] > 0:\n",
    "        for num in diffs:\n",
    "            if num < 0:\n",
    "                 return False\n",
    "    elif diffs[0] < 0:\n",
    "        for num in diffs:\n",
    "             if num > 0:\n",
    "                return False\n",
    "    return True"
   ]
  },
  {
   "cell_type": "code",
   "execution_count": 64,
   "id": "f46fc206-1df7-4d5c-a4c2-29bd79350244",
   "metadata": {},
   "outputs": [],
   "source": [
    "counter = 0\n",
    "\n",
    "for record in records:\n",
    "    # first check if record is safe\n",
    "    if checkLevels(record):\n",
    "        counter += 1\n",
    "        \n",
    "    # for initially unsafe records, try making safe by removing one element\n",
    "    else:\n",
    "        # try all all levels individually\n",
    "        for i, level in enumerate(record):\n",
    "            record_copy = record[:]\n",
    "\n",
    "            # remove level from list\n",
    "            record_copy.pop(i)\n",
    "\n",
    "            # check to see if record is now safe\n",
    "            if checkLevels(record_copy):\n",
    "                counter += 1\n",
    "                break\n",
    "            else:\n",
    "                continue"
   ]
  },
  {
   "cell_type": "code",
   "execution_count": 65,
   "id": "241973fd-3b03-458f-b55c-86eee426dde3",
   "metadata": {},
   "outputs": [
    {
     "name": "stdout",
     "output_type": "stream",
     "text": [
      "428\n"
     ]
    }
   ],
   "source": [
    "print(counter)"
   ]
  }
 ],
 "metadata": {
  "kernelspec": {
   "display_name": "Python 3 (ipykernel)",
   "language": "python",
   "name": "python3"
  },
  "language_info": {
   "codemirror_mode": {
    "name": "ipython",
    "version": 3
   },
   "file_extension": ".py",
   "mimetype": "text/x-python",
   "name": "python",
   "nbconvert_exporter": "python",
   "pygments_lexer": "ipython3",
   "version": "3.10.13"
  }
 },
 "nbformat": 4,
 "nbformat_minor": 5
}
